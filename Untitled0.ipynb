{
  "nbformat": 4,
  "nbformat_minor": 0,
  "metadata": {
    "colab": {
      "name": "Untitled0.ipynb",
      "provenance": [],
      "collapsed_sections": [],
      "authorship_tag": "ABX9TyPg/z3DtnZ9f9kfhTF3l5uj"
    },
    "kernelspec": {
      "name": "python3",
      "display_name": "Python 3"
    },
    "language_info": {
      "name": "python"
    }
  },
  "cells": [
    {
      "cell_type": "code",
      "metadata": {
        "id": "PDUKhNngiwZ4",
        "colab": {
          "base_uri": "https://localhost:8080/"
        },
        "outputId": "77a7b298-5a44-4956-8ad1-7d4d855c3f86"
      },
      "source": [
        "%%writefile p1.cpp\n",
        "#include <iostream>\n",
        "\n",
        "using namespace std;\n",
        "\n",
        "int main(){\n",
        "\n",
        "  cout<<\"Hola mundo\";\n",
        "\n",
        "  return 0;\n",
        "}"
      ],
      "execution_count": 9,
      "outputs": [
        {
          "output_type": "stream",
          "text": [
            "Overwriting p1.cpp\n"
          ],
          "name": "stdout"
        }
      ]
    },
    {
      "cell_type": "code",
      "metadata": {
        "id": "DNWJlZHOk3Kc"
      },
      "source": [
        "#Compilando codigo en c++\n",
        "!g++ p1.cpp"
      ],
      "execution_count": 10,
      "outputs": []
    },
    {
      "cell_type": "code",
      "metadata": {
        "colab": {
          "base_uri": "https://localhost:8080/"
        },
        "id": "oaIwb41BlP8I",
        "outputId": "4d317d0d-e01a-4bb6-cc22-eb7e7961af9a"
      },
      "source": [
        "#Se compila y ejecuta el binario\n",
        "!./a.out"
      ],
      "execution_count": 11,
      "outputs": [
        {
          "output_type": "stream",
          "text": [
            "Hola mundo"
          ],
          "name": "stdout"
        }
      ]
    },
    {
      "cell_type": "code",
      "metadata": {
        "colab": {
          "base_uri": "https://localhost:8080/"
        },
        "id": "F1sUAShfl6jk",
        "outputId": "0ba46379-f880-4992-a3f6-7c5db4da727d"
      },
      "source": [
        "!g++ p1.cpp && ./a.out"
      ],
      "execution_count": 12,
      "outputs": [
        {
          "output_type": "stream",
          "text": [
            "Hola mundo"
          ],
          "name": "stdout"
        }
      ]
    },
    {
      "cell_type": "code",
      "metadata": {
        "colab": {
          "base_uri": "https://localhost:8080/"
        },
        "id": "-nrojIYvmZTb",
        "outputId": "5bdbe4dc-ff9b-4fd9-dec8-8d7861f656f8"
      },
      "source": [
        "!g++ p1.cpp -o upc.exe && ./upc.exe"
      ],
      "execution_count": 20,
      "outputs": [
        {
          "output_type": "stream",
          "text": [
            "Hola mundo"
          ],
          "name": "stdout"
        }
      ]
    },
    {
      "cell_type": "markdown",
      "metadata": {
        "id": "FUtXThKqpZtc"
      },
      "source": [
        "#Temario\n",
        "\n",
        "1. Colab\n",
        "1. Compilacion por terminal\n",
        "1. Control de versiones\n",
        "1- Templates"
      ]
    }
  ]
}